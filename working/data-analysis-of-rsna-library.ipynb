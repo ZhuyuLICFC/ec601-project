{
 "cells": [
  {
   "cell_type": "markdown",
   "metadata": {},
   "source": [
    "# Data Analysis of RSNA Library"
   ]
  },
  {
   "cell_type": "code",
   "execution_count": 29,
   "metadata": {
    "_cell_guid": "b1076dfc-b9ad-4769-8c92-a6c4dae69d19",
    "_uuid": "8f2839f25d086af736a60e9eeb907d3b93b6e0e5"
   },
   "outputs": [
    {
     "name": "stdout",
     "output_type": "stream",
     "text": [
      "['stage_2_test_images', 'stage_2_sample_submission.csv', 'stage_2_detailed_class_info.csv', 'stage_2_train_images', 'stage_2_train_labels.csv', 'GCP Credits Request Link - RSNA.txt']\n"
     ]
    }
   ],
   "source": [
    "import numpy as np # linear algebra\n",
    "import pandas as pd # data processing, CSV file I/O (e.g. pd.read_csv)\n",
    "import matplotlib.patches as patches\n",
    "import os\n",
    "import cv2\n",
    "from tqdm import tqdm\n",
    "\n",
    "print(os.listdir(\"../input\"))"
   ]
  },
  {
   "cell_type": "code",
   "execution_count": 6,
   "metadata": {
    "_uuid": "3853cc13a4c33252cba33307b174781fed695c99"
   },
   "outputs": [],
   "source": [
    "import pydicom # Read, modify and write DICOM files with python code\n",
    "import matplotlib.pyplot as plt"
   ]
  },
  {
   "cell_type": "code",
   "execution_count": 7,
   "metadata": {
    "_uuid": "e410d00f6da0820d116c4a5e6ba0b4a38cd65a56"
   },
   "outputs": [],
   "source": [
    "random_stat = 123\n",
    "np.random.seed(random_stat)"
   ]
  },
  {
   "cell_type": "markdown",
   "metadata": {
    "_cell_guid": "79c7e3d0-c299-4dcb-8224-4455121ee9b0",
    "_uuid": "d629ff2d2480ee46fbb7e2d37f6b5fab8052498a",
    "collapsed": true
   },
   "source": [
    "# Load the dataset"
   ]
  },
  {
   "cell_type": "code",
   "execution_count": 8,
   "metadata": {
    "_uuid": "7f7ece7a32cb27dc02981b573e1399a711613e29",
    "scrolled": false
   },
   "outputs": [
    {
     "name": "stdout",
     "output_type": "stream",
     "text": [
      "GCP Credits Request Link - RSNA.txt  stage_2_test_images\r\n",
      "stage_2_detailed_class_info.csv      stage_2_train_images\r\n",
      "stage_2_sample_submission.csv\t     stage_2_train_labels.csv\r\n"
     ]
    }
   ],
   "source": [
    "!ls ../input"
   ]
  },
  {
   "cell_type": "markdown",
   "metadata": {
    "_uuid": "1f7c731887d2f4535e485cab2c9d9a1da798d1e1"
   },
   "source": [
    "## Labels"
   ]
  },
  {
   "cell_type": "code",
   "execution_count": 9,
   "metadata": {
    "_uuid": "c8c8013c2187cdc89f9b6392ce5203a64027f2ac"
   },
   "outputs": [
    {
     "name": "stdout",
     "output_type": "stream",
     "text": [
      "                              patientId      x   ...    height  Target\n",
      "0  0004cfab-14fd-4e49-80ba-63a80b6bddd6    NaN   ...       NaN       0\n",
      "1  00313ee0-9eaa-42f4-b0ab-c148ed3241cd    NaN   ...       NaN       0\n",
      "2  00322d4d-1c29-4943-afc9-b6754be640eb    NaN   ...       NaN       0\n",
      "3  003d8fa0-6bf1-40ed-b54c-ac657f8495c5    NaN   ...       NaN       0\n",
      "4  00436515-870c-4b36-a041-de91049b9ab4  264.0   ...     379.0       1\n",
      "\n",
      "[5 rows x 6 columns]\n",
      "The total number of trianing examples: 30227\n"
     ]
    }
   ],
   "source": [
    "df = pd.read_csv('../input/stage_2_train_labels.csv')\n",
    "print(df.head(5))\n",
    "print(f'The total number of trianing examples: {len(df)}')"
   ]
  },
  {
   "cell_type": "markdown",
   "metadata": {
    "_uuid": "cd94a7af5c8dd247ec5b3174009607d873dbbcf2"
   },
   "source": [
    "1. Positive example: target == 0 (No pneumonia)"
   ]
  },
  {
   "cell_type": "code",
   "execution_count": 10,
   "metadata": {
    "_uuid": "c4d296f335e6eeb4143dabdd9f95dd65cfb5fafc"
   },
   "outputs": [
    {
     "name": "stdout",
     "output_type": "stream",
     "text": [
      "patientId    0004cfab-14fd-4e49-80ba-63a80b6bddd6\n",
      "x                                             NaN\n",
      "y                                             NaN\n",
      "width                                         NaN\n",
      "height                                        NaN\n",
      "Target                                          0\n",
      "Name: 0, dtype: object\n"
     ]
    }
   ],
   "source": [
    "print(df.iloc[0])"
   ]
  },
  {
   "cell_type": "markdown",
   "metadata": {
    "_uuid": "51dcb11f2ab917cee26b64ee20f9d4534cd71848"
   },
   "source": [
    "1. Negative example: target == 1 (has pneumonia)\n",
    " * Note: a positive example may have mulitple bboxes"
   ]
  },
  {
   "cell_type": "code",
   "execution_count": 11,
   "metadata": {
    "_uuid": "4ef19415f250c3e61ddce655fe5b0cd8fc532dfb",
    "scrolled": true
   },
   "outputs": [
    {
     "name": "stdout",
     "output_type": "stream",
     "text": [
      "patientId    00436515-870c-4b36-a041-de91049b9ab4\n",
      "x                                             264\n",
      "y                                             152\n",
      "width                                         213\n",
      "height                                        379\n",
      "Target                                          1\n",
      "Name: 4, dtype: object\n"
     ]
    }
   ],
   "source": [
    "print(df.iloc[4])"
   ]
  },
  {
   "cell_type": "markdown",
   "metadata": {
    "_uuid": "4b26fb5abe55d6742fa9533e87956cd663aafac9"
   },
   "source": [
    "## Input data and dimension"
   ]
  },
  {
   "cell_type": "code",
   "execution_count": 12,
   "metadata": {
    "_uuid": "26a9926f01c14905947a6ff49b65e86c99df639c"
   },
   "outputs": [
    {
     "name": "stdout",
     "output_type": "stream",
     "text": [
      "(0008, 0005) Specific Character Set              CS: 'ISO_IR 100'\n",
      "(0008, 0016) SOP Class UID                       UI: Secondary Capture Image Storage\n",
      "(0008, 0018) SOP Instance UID                    UI: 1.2.276.0.7230010.3.1.4.8323329.28530.1517874485.775526\n",
      "(0008, 0020) Study Date                          DA: '19010101'\n",
      "(0008, 0030) Study Time                          TM: '000000.00'\n",
      "(0008, 0050) Accession Number                    SH: ''\n",
      "(0008, 0060) Modality                            CS: 'CR'\n",
      "(0008, 0064) Conversion Type                     CS: 'WSD'\n",
      "(0008, 0090) Referring Physician's Name          PN: ''\n",
      "(0008, 103e) Series Description                  LO: 'view: PA'\n",
      "(0010, 0010) Patient's Name                      PN: '0004cfab-14fd-4e49-80ba-63a80b6bddd6'\n",
      "(0010, 0020) Patient ID                          LO: '0004cfab-14fd-4e49-80ba-63a80b6bddd6'\n",
      "(0010, 0030) Patient's Birth Date                DA: ''\n",
      "(0010, 0040) Patient's Sex                       CS: 'F'\n",
      "(0010, 1010) Patient's Age                       AS: '51'\n",
      "(0018, 0015) Body Part Examined                  CS: 'CHEST'\n",
      "(0018, 5101) View Position                       CS: 'PA'\n",
      "(0020, 000d) Study Instance UID                  UI: 1.2.276.0.7230010.3.1.2.8323329.28530.1517874485.775525\n",
      "(0020, 000e) Series Instance UID                 UI: 1.2.276.0.7230010.3.1.3.8323329.28530.1517874485.775524\n",
      "(0020, 0010) Study ID                            SH: ''\n",
      "(0020, 0011) Series Number                       IS: \"1\"\n",
      "(0020, 0013) Instance Number                     IS: \"1\"\n",
      "(0020, 0020) Patient Orientation                 CS: ''\n",
      "(0028, 0002) Samples per Pixel                   US: 1\n",
      "(0028, 0004) Photometric Interpretation          CS: 'MONOCHROME2'\n",
      "(0028, 0010) Rows                                US: 1024\n",
      "(0028, 0011) Columns                             US: 1024\n",
      "(0028, 0030) Pixel Spacing                       DS: ['0.14300000000000002', '0.14300000000000002']\n",
      "(0028, 0100) Bits Allocated                      US: 8\n",
      "(0028, 0101) Bits Stored                         US: 8\n",
      "(0028, 0102) High Bit                            US: 7\n",
      "(0028, 0103) Pixel Representation                US: 0\n",
      "(0028, 2110) Lossy Image Compression             CS: '01'\n",
      "(0028, 2114) Lossy Image Compression Method      CS: 'ISO_10918_1'\n",
      "(7fe0, 0010) Pixel Data                          OB: Array of 142006 bytes\n"
     ]
    }
   ],
   "source": [
    "patientId = df['patientId'][0]\n",
    "dcm_file = '../input/stage_2_train_images/%s.dcm' % patientId\n",
    "dcm_data = pydicom.read_file(dcm_file)\n",
    "\n",
    "print(dcm_data)"
   ]
  },
  {
   "cell_type": "code",
   "execution_count": 13,
   "metadata": {
    "_uuid": "3bcad1b9c8e165725b80802578b054cc9de0e1bd",
    "scrolled": true
   },
   "outputs": [
    {
     "name": "stdout",
     "output_type": "stream",
     "text": [
      "<class 'numpy.ndarray'>\n",
      "uint8\n",
      "(1024, 1024)\n"
     ]
    }
   ],
   "source": [
    "im = dcm_data.pixel_array\n",
    "print(type(im))\n",
    "print(im.dtype)\n",
    "print(im.shape)"
   ]
  },
  {
   "cell_type": "markdown",
   "metadata": {
    "_uuid": "f1d3d2bb84da53affb187f4cb30bc0554454d034"
   },
   "source": [
    "### Prepare a small set of data (2000)"
   ]
  },
  {
   "cell_type": "code",
   "execution_count": 14,
   "metadata": {
    "_uuid": "3053944813a2069d821e0486b72f79e8f466f3b1",
    "scrolled": true
   },
   "outputs": [],
   "source": [
    "NUM_OF_DATA = 2000"
   ]
  },
  {
   "cell_type": "code",
   "execution_count": 15,
   "metadata": {
    "_uuid": "4f9fb5f1ec2ab6da2609ed39225229df05e23b59"
   },
   "outputs": [
    {
     "name": "stdout",
     "output_type": "stream",
     "text": [
      "30227\n"
     ]
    }
   ],
   "source": [
    "print(len(df['patientId']))"
   ]
  },
  {
   "cell_type": "code",
   "execution_count": 16,
   "metadata": {
    "_uuid": "55299f890382e4b1be8ca0af88d771de9ba77a77"
   },
   "outputs": [
    {
     "data": {
      "text/plain": [
       "'0004cfab-14fd-4e49-80ba-63a80b6bddd6'"
      ]
     },
     "execution_count": 16,
     "metadata": {},
     "output_type": "execute_result"
    }
   ],
   "source": [
    "df['patientId'][0]"
   ]
  },
  {
   "cell_type": "code",
   "execution_count": 17,
   "metadata": {
    "_uuid": "01390db958ddfda53537cd6c2b9d5bb57676a8b4"
   },
   "outputs": [],
   "source": [
    "small_patient_ids = df['patientId'][:NUM_OF_DATA]\n",
    "training_images = []\n",
    "training_labels = []\n",
    "for patient_id in small_patient_ids:\n",
    "    dcm_file = f'../input/stage_2_train_images/{patient_id}.dcm'\n",
    "    dcm_data = pydicom.read_file(dcm_file)\n",
    "    im = dcm_data.pixel_array\n",
    "    training_images.append(im)\n",
    "    training_labels.append(df[df['patientId']==patient_id].values)\n",
    "    "
   ]
  },
  {
   "cell_type": "markdown",
   "metadata": {
    "_uuid": "cd1c9cbd1f64594b99925363a8fe415d3bf132dc"
   },
   "source": [
    "### Visualize the training image with boundingbox"
   ]
  },
  {
   "cell_type": "code",
   "execution_count": 18,
   "metadata": {
    "_uuid": "ed7226d7e13e925fa84f31238de87469fb3e903e"
   },
   "outputs": [
    {
     "name": "stdout",
     "output_type": "stream",
     "text": [
      "[['00436515-870c-4b36-a041-de91049b9ab4' 264.0 152.0 213.0 379.0 1]\n",
      " ['00436515-870c-4b36-a041-de91049b9ab4' 562.0 152.0 256.0 453.0 1]]\n"
     ]
    },
    {
     "data": {
      "image/png": "[encoded data removed]",
      "text/plain": [
       "<Figure size 432x288 with 1 Axes>"
      ]
     },
     "metadata": {
      "needs_background": "light"
     },
     "output_type": "display_data"
    }
   ],
   "source": [
    "sample_index = 4\n",
    "im = training_images[sample_index]\n",
    "fig,ax = plt.subplots(1)\n",
    "for bbox in range(len(training_labels[sample_index])):\n",
    "    bx, by, bh, bw = [i for i in training_labels[sample_index][bbox][1:5]]\n",
    "    # Display the image\n",
    "    ax.imshow(im, cmap=plt.cm.bone)\n",
    "    # Create a Rectangle patch\n",
    "    rect = patches.Rectangle((bx, by), bh, bw ,linewidth=1,edgecolor='r',facecolor='none')\n",
    "    # Add the patch to the Axes\n",
    "    ax.add_patch(rect)\n",
    "print(training_labels[sample_index])\n",
    "plt.show()\n"
   ]
  },
  {
   "cell_type": "markdown",
   "metadata": {
    "_uuid": "8260e74642a3b067fc3ce69d8095ce1ae786a073"
   },
   "source": [
    "### Darknet"
   ]
  },
  {
   "cell_type": "code",
   "execution_count": 19,
   "metadata": {
    "_uuid": "22cf36de0ecebc14f4bf5922d58f8001f4b3ab35"
   },
   "outputs": [
    {
     "name": "stdout",
     "output_type": "stream",
     "text": [
      "Cloning into 'darknet'...\n",
      "remote: Enumerating objects: 5901, done.\u001b[K\n",
      "remote: Total 5901 (delta 0), reused 0 (delta 0), pack-reused 5901\u001b[K\n",
      "Receiving objects: 100% (5901/5901), 6.14 MiB | 10.03 MiB/s, done.\n",
      "Resolving deltas: 100% (3945/3945), done.\n",
      "Checking connectivity... done.\n"
     ]
    }
   ],
   "source": [
    "!git clone https://github.com/pjreddie/darknet\n",
    "\n",
    "# Build gpu version darknet\n",
    "!cd darknet && sed '1 s/^.*$/GPU=1/; 2 s/^.*$/CUDNN=1/' -i Makefile\n",
    "\n",
    "# -j <The # of cpu cores to use>. Chang 999 to fit your environment. Actually i used '-j 50'.\n",
    "!cd darknet && make -j 999 -s\n",
    "!cp darknet/darknet darknet_gpu"
   ]
  },
  {
   "cell_type": "markdown",
   "metadata": {
    "_uuid": "18b2b0495c055c90345802961ec075e417810e1e"
   },
   "source": [
    "### Prepare data for YOLO3"
   ]
  },
  {
   "cell_type": "code",
   "execution_count": 20,
   "metadata": {
    "_uuid": "2440f62c8c545a7045dc941670cadac887516ea0"
   },
   "outputs": [],
   "source": [
    "DATA_DIR = \"../input\"\n",
    "\n",
    "train_dcm_dir = os.path.join(DATA_DIR, \"stage_2_train_images\")\n",
    "test_dcm_dir = os.path.join(DATA_DIR, \"stage_2_test_images\")\n",
    "\n",
    "img_dir = os.path.join(os.getcwd(), \"images\")  # .jpg\n",
    "label_dir = os.path.join(os.getcwd(), \"labels\")  # .txt\n",
    "metadata_dir = os.path.join(os.getcwd(), \"metadata\") # .txt\n",
    "\n",
    "# YOLOv3 config file directory\n",
    "cfg_dir = os.path.join(os.getcwd(), \"cfg\")\n",
    "# YOLOv3 training checkpoints will be saved here\n",
    "backup_dir = os.path.join(os.getcwd(), \"backup\")\n",
    "\n",
    "for directory in [img_dir, label_dir, metadata_dir, cfg_dir, backup_dir]:\n",
    "    if os.path.isdir(directory):\n",
    "        continue\n",
    "    os.mkdir(directory)"
   ]
  },
  {
   "cell_type": "code",
   "execution_count": 21,
   "metadata": {
    "_uuid": "e6b8f02e69503b3e0a68b612ec59eb9bbc938f02"
   },
   "outputs": [
    {
     "name": "stdout",
     "output_type": "stream",
     "text": [
      "total 1.9M\r\n",
      "4.0K drwxr-xr-x  2 root root 4.0K Oct 29 21:56 backup\r\n",
      "4.0K drwxr-xr-x  2 root root 4.0K Oct 29 21:56 cfg\r\n",
      "4.0K drwxr-xr-x  2 root root 4.0K Oct 29 21:56 images\r\n",
      "4.0K drwxr-xr-x  2 root root 4.0K Oct 29 21:56 labels\r\n",
      "4.0K drwxr-xr-x  2 root root 4.0K Oct 29 21:56 metadata\r\n",
      "1.9M -rwxr-xr-x  1 root root 1.9M Oct 29 21:55 darknet_gpu\r\n",
      "4.0K drwxr-xr-x 13 root root 4.0K Oct 29 21:55 darknet\r\n",
      "4.0K -rw-r--r--  1 root root  199 Oct 29 21:54 __notebook_source__.ipynb\r\n"
     ]
    }
   ],
   "source": [
    "!ls -shtl"
   ]
  },
  {
   "cell_type": "markdown",
   "metadata": {
    "_uuid": "63ca2af6547d4e4df08c65443cb231ce2473809e"
   },
   "source": [
    "## Generate  .txt file for YOLO3"
   ]
  },
  {
   "cell_type": "code",
   "execution_count": 23,
   "metadata": {
    "_uuid": "70079f4a0f6b7ec388e58414ba36e2a3f5c50fe3"
   },
   "outputs": [
    {
     "data": {
      "text/html": [
       "<div>\n",
       "<style scoped>\n",
       "    .dataframe tbody tr th:only-of-type {\n",
       "        vertical-align: middle;\n",
       "    }\n",
       "\n",
       "    .dataframe tbody tr th {\n",
       "        vertical-align: top;\n",
       "    }\n",
       "\n",
       "    .dataframe thead th {\n",
       "        text-align: right;\n",
       "    }\n",
       "</style>\n",
       "<table border=\"1\" class=\"dataframe\">\n",
       "  <thead>\n",
       "    <tr style=\"text-align: right;\">\n",
       "      <th></th>\n",
       "      <th>patientId</th>\n",
       "      <th>x</th>\n",
       "      <th>y</th>\n",
       "      <th>width</th>\n",
       "      <th>height</th>\n",
       "      <th>Target</th>\n",
       "    </tr>\n",
       "  </thead>\n",
       "  <tbody>\n",
       "    <tr>\n",
       "      <th>0</th>\n",
       "      <td>0004cfab-14fd-4e49-80ba-63a80b6bddd6</td>\n",
       "      <td>NaN</td>\n",
       "      <td>NaN</td>\n",
       "      <td>NaN</td>\n",
       "      <td>NaN</td>\n",
       "      <td>0</td>\n",
       "    </tr>\n",
       "    <tr>\n",
       "      <th>1</th>\n",
       "      <td>00313ee0-9eaa-42f4-b0ab-c148ed3241cd</td>\n",
       "      <td>NaN</td>\n",
       "      <td>NaN</td>\n",
       "      <td>NaN</td>\n",
       "      <td>NaN</td>\n",
       "      <td>0</td>\n",
       "    </tr>\n",
       "    <tr>\n",
       "      <th>2</th>\n",
       "      <td>00322d4d-1c29-4943-afc9-b6754be640eb</td>\n",
       "      <td>NaN</td>\n",
       "      <td>NaN</td>\n",
       "      <td>NaN</td>\n",
       "      <td>NaN</td>\n",
       "      <td>0</td>\n",
       "    </tr>\n",
       "    <tr>\n",
       "      <th>3</th>\n",
       "      <td>003d8fa0-6bf1-40ed-b54c-ac657f8495c5</td>\n",
       "      <td>NaN</td>\n",
       "      <td>NaN</td>\n",
       "      <td>NaN</td>\n",
       "      <td>NaN</td>\n",
       "      <td>0</td>\n",
       "    </tr>\n",
       "    <tr>\n",
       "      <th>4</th>\n",
       "      <td>00436515-870c-4b36-a041-de91049b9ab4</td>\n",
       "      <td>264.0</td>\n",
       "      <td>152.0</td>\n",
       "      <td>213.0</td>\n",
       "      <td>379.0</td>\n",
       "      <td>1</td>\n",
       "    </tr>\n",
       "  </tbody>\n",
       "</table>\n",
       "</div>"
      ],
      "text/plain": [
       "                              patientId      x   ...    height  Target\n",
       "0  0004cfab-14fd-4e49-80ba-63a80b6bddd6    NaN   ...       NaN       0\n",
       "1  00313ee0-9eaa-42f4-b0ab-c148ed3241cd    NaN   ...       NaN       0\n",
       "2  00322d4d-1c29-4943-afc9-b6754be640eb    NaN   ...       NaN       0\n",
       "3  003d8fa0-6bf1-40ed-b54c-ac657f8495c5    NaN   ...       NaN       0\n",
       "4  00436515-870c-4b36-a041-de91049b9ab4  264.0   ...     379.0       1\n",
       "\n",
       "[5 rows x 6 columns]"
      ]
     },
     "execution_count": 23,
     "metadata": {},
     "output_type": "execute_result"
    }
   ],
   "source": [
    "annots = pd.read_csv(os.path.join(DATA_DIR, \"stage_2_train_labels.csv\"))\n",
    "annots.head()"
   ]
  },
  {
   "cell_type": "code",
   "execution_count": 27,
   "metadata": {
    "_uuid": "c8181b536c5a065f403a44d970d71d2702f5d685"
   },
   "outputs": [],
   "source": [
    "def save_img_from_dcm(dcm_dir, img_dir, patient_id):\n",
    "    img_fp = os.path.join(img_dir, \"{}.jpg\".format(patient_id))\n",
    "    if os.path.exists(img_fp):\n",
    "        return\n",
    "    dcm_fp = os.path.join(dcm_dir, \"{}.dcm\".format(patient_id))\n",
    "    img_1ch = pydicom.read_file(dcm_fp).pixel_array\n",
    "    img_3ch = np.stack([img_1ch]*3, -1)\n",
    "\n",
    "    img_fp = os.path.join(img_dir, \"{}.jpg\".format(patient_id))\n",
    "    cv2.imwrite(img_fp, img_3ch)\n",
    "    \n",
    "def save_label_from_dcm(label_dir, patient_id, row=None):\n",
    "    # rsna defualt image size\n",
    "    img_size = 1024\n",
    "    label_fp = os.path.join(label_dir, \"{}.txt\".format(patient_id))\n",
    "    \n",
    "    f = open(label_fp, \"a\")\n",
    "    if row is None:\n",
    "        f.close()\n",
    "        return\n",
    "\n",
    "    top_left_x = row[1]\n",
    "    top_left_y = row[2]\n",
    "    w = row[3]\n",
    "    h = row[4]\n",
    "    \n",
    "    # 'r' means relative. 'c' means center.\n",
    "    rx = top_left_x/img_size\n",
    "    ry = top_left_y/img_size\n",
    "    rw = w/img_size\n",
    "    rh = h/img_size\n",
    "    rcx = rx+rw/2\n",
    "    rcy = ry+rh/2\n",
    "    \n",
    "    line = \"{} {} {} {} {}\\n\".format(0, rcx, rcy, rw, rh)\n",
    "    \n",
    "    f.write(line)\n",
    "    f.close()\n",
    "    \n",
    "def save_yolov3_data_from_rsna(dcm_dir, img_dir, label_dir, annots):\n",
    "    for row in tqdm(annots.values):\n",
    "        patient_id = row[0]\n",
    "\n",
    "        img_fp = os.path.join(img_dir, \"{}.jpg\".format(patient_id))\n",
    "        if os.path.exists(img_fp):\n",
    "            save_label_from_dcm(label_dir, patient_id, row)\n",
    "            continue\n",
    "\n",
    "        target = row[5]\n",
    "        # Since kaggle kernel have samll volume (5GB ?), I didn't contain files with no bbox here.\n",
    "        if target == 0:\n",
    "            continue\n",
    "        save_label_from_dcm(label_dir, patient_id, row)\n",
    "        save_img_from_dcm(dcm_dir, img_dir, patient_id)"
   ]
  },
  {
   "cell_type": "code",
   "execution_count": 30,
   "metadata": {
    "_uuid": "7ae643b3e36436e3326f1deff7f79045f4010465"
   },
   "outputs": [
    {
     "name": "stderr",
     "output_type": "stream",
     "text": [
      "100%|██████████| 30227/30227 [02:18<00:00, 218.45it/s]\n"
     ]
    }
   ],
   "source": [
    "save_yolov3_data_from_rsna(train_dcm_dir, img_dir, label_dir, annots)"
   ]
  },
  {
   "cell_type": "code",
   "execution_count": 31,
   "metadata": {
    "_uuid": "00ed0b267ac46d529c2ab2595550c4778eed6268"
   },
   "outputs": [],
   "source": [
    "def write_train_list(metadata_dir, img_dir, name, series):\n",
    "    list_fp = os.path.join(metadata_dir, name)\n",
    "    with open(list_fp, \"w\") as f:\n",
    "        for patient_id in series:\n",
    "            line = \"{}\\n\".format(os.path.join(img_dir, \"{}.jpg\".format(patient_id)))\n",
    "            f.write(line)"
   ]
  },
  {
   "cell_type": "code",
   "execution_count": null,
   "metadata": {
    "_uuid": "ee11f55a62182c2ebc653774bf50ceb4665f8bd0"
   },
   "outputs": [],
   "source": [
    "# Following lines do not contain data with no bbox\n",
    "patient_id_series = annots[annots.Target == 1].patientId.drop_duplicates()\n",
    "\n",
    "tr_series, val_series = train_test_split(patient_id_series, test_size=0.1, random_state=random_stat)\n",
    "print(\"The # of train set: {}, The # of validation set: {}\".format(tr_series.shape[0], val_series.shape[0]))\n",
    "\n",
    "# train image path list\n",
    "write_train_list(metadata_dir, img_dir, \"tr_list.txt\", tr_series)\n",
    "# validation image path list\n",
    "write_train_list(metadata_dir, img_dir, \"val_list.txt\", val_series)"
   ]
  }
 ],
 "metadata": {
  "kernelspec": {
   "display_name": "Python 3",
   "language": "python",
   "name": "python3"
  },
  "language_info": {
   "codemirror_mode": {
    "name": "ipython",
    "version": 3
   },
   "file_extension": ".py",
   "mimetype": "text/x-python",
   "name": "python",
   "nbconvert_exporter": "python",
   "pygments_lexer": "ipython3",
   "version": "3.6.5"
  }
 },
 "nbformat": 4,
 "nbformat_minor": 1
}
